{
 "cells": [
  {
   "cell_type": "code",
   "execution_count": 2,
   "id": "26d0c8da-1814-4f79-a935-d89e68150ac8",
   "metadata": {},
   "outputs": [],
   "source": [
    "import numpy as np"
   ]
  },
  {
   "cell_type": "markdown",
   "id": "cd5579ea-82a9-4c66-8fbe-7ced698ca8ad",
   "metadata": {},
   "source": [
    "3.1 1D numpy arrays"
   ]
  },
  {
   "cell_type": "code",
   "execution_count": 4,
   "id": "83646fd4-8501-4fd0-8397-35e14c206b8d",
   "metadata": {},
   "outputs": [],
   "source": [
    "list = [20, 27, 9, 12, 31, 17, 4, 50, 39, 35]\n",
    "arr = np.array(list)"
   ]
  },
  {
   "cell_type": "code",
   "execution_count": 9,
   "id": "08ce41ae-7197-4cdb-9f31-bca9a24f74eb",
   "metadata": {},
   "outputs": [
    {
     "name": "stdout",
     "output_type": "stream",
     "text": [
      "[ 80 108  36  48 124  68  16 200 156 140]\n"
     ]
    }
   ],
   "source": [
    "multiply_by_4 = (arr * 4)\n",
    "print(multiply_by_4)"
   ]
  },
  {
   "cell_type": "code",
   "execution_count": 10,
   "id": "7abceaad-e19e-493c-abb0-12f94e7ac56c",
   "metadata": {},
   "outputs": [
    {
     "name": "stdout",
     "output_type": "stream",
     "text": [
      "24.4\n"
     ]
    }
   ],
   "source": [
    "mean = np.mean(arr)\n",
    "print(mean)"
   ]
  },
  {
   "cell_type": "code",
   "execution_count": 12,
   "id": "fb8239fe-bed5-4ded-bc83-8f3a89eff2f2",
   "metadata": {},
   "outputs": [
    {
     "name": "stdout",
     "output_type": "stream",
     "text": [
      "23.5\n"
     ]
    }
   ],
   "source": [
    "median = np.median(arr)\n",
    "print(median)"
   ]
  },
  {
   "cell_type": "code",
   "execution_count": 13,
   "id": "279585ec-17b1-46d9-adf8-9336eaa390b3",
   "metadata": {},
   "outputs": [
    {
     "name": "stdout",
     "output_type": "stream",
     "text": [
      "13.828955130450023\n"
     ]
    }
   ],
   "source": [
    "standard_deviation = np.std(arr)\n",
    "print(standard_deviation)"
   ]
  },
  {
   "cell_type": "code",
   "execution_count": 18,
   "id": "7a0cb5f5-5329-46e7-bc96-df605d42ad13",
   "metadata": {},
   "outputs": [
    {
     "name": "stdout",
     "output_type": "stream",
     "text": [
      "6\n",
      "7\n"
     ]
    }
   ],
   "source": [
    "smallest_index = np.argmin(arr)\n",
    "largest_index = np.argmax(arr)\n",
    "print(smallest_index)\n",
    "print(largest_index)"
   ]
  },
  {
   "cell_type": "code",
   "execution_count": 20,
   "id": "38cddaf4-ee7c-4103-a41e-b79ee5e06ac1",
   "metadata": {},
   "outputs": [
    {
     "name": "stdout",
     "output_type": "stream",
     "text": [
      "4\n",
      "50\n"
     ]
    }
   ],
   "source": [
    "print(list[6])\n",
    "print(list[7])"
   ]
  },
  {
   "cell_type": "code",
   "execution_count": 26,
   "id": "54d2a049-baeb-4374-ba4d-5635373cd92e",
   "metadata": {},
   "outputs": [
    {
     "name": "stdout",
     "output_type": "stream",
     "text": [
      "4\n",
      "50\n"
     ]
    }
   ],
   "source": [
    "smallest_value = np.min(arr)\n",
    "largest_value = np.max(arr)\n",
    "print(smallest_value)\n",
    "print(largest_value) # matches those from previous step"
   ]
  },
  {
   "cell_type": "code",
   "execution_count": 28,
   "id": "e3b65e07-8a2f-4367-a3a8-4425fe00a10d",
   "metadata": {},
   "outputs": [
    {
     "name": "stdout",
     "output_type": "stream",
     "text": [
      "[27 31 50 39 35]\n"
     ]
    }
   ],
   "source": [
    "greater_than_20 = arr > 20\n",
    "new_array = arr[greater_than_20]\n",
    "print(new_array)"
   ]
  },
  {
   "cell_type": "markdown",
   "id": "103ba83c-4d86-4f36-b9a8-3c3cd69577d5",
   "metadata": {},
   "source": [
    "2D numpy arrays"
   ]
  },
  {
   "cell_type": "code",
   "execution_count": 12,
   "id": "79aa7df5-5013-40b1-a3ab-a1af891ac091",
   "metadata": {},
   "outputs": [],
   "source": [
    "matrix = [\n",
    "[5, 12, 17, 9],\n",
    "[8, 21, 14, 3],\n",
    "[6, 13, 19, 11]\n",
    "]\n",
    "matrix = np.array(matrix)"
   ]
  },
  {
   "cell_type": "code",
   "execution_count": 33,
   "id": "03a33c43-2a09-419b-96c8-7eb121a6a270",
   "metadata": {},
   "outputs": [
    {
     "data": {
      "text/plain": [
       "(3, 4)"
      ]
     },
     "execution_count": 33,
     "metadata": {},
     "output_type": "execute_result"
    }
   ],
   "source": [
    "np.shape(matrix) # three rows, four columns"
   ]
  },
  {
   "cell_type": "code",
   "execution_count": 34,
   "id": "c5a19420-fff3-443a-b5a8-7f342c7747e6",
   "metadata": {},
   "outputs": [
    {
     "name": "stdout",
     "output_type": "stream",
     "text": [
      "[17 14 19]\n"
     ]
    }
   ],
   "source": [
    "print(matrix[:, 2])"
   ]
  },
  {
   "cell_type": "code",
   "execution_count": 36,
   "id": "44b67642-4298-40dd-b8f9-6699aac27db4",
   "metadata": {},
   "outputs": [
    {
     "name": "stdout",
     "output_type": "stream",
     "text": [
      "[ 8 21 14  3]\n"
     ]
    }
   ],
   "source": [
    "print(matrix[1])"
   ]
  },
  {
   "cell_type": "code",
   "execution_count": 37,
   "id": "9a5af0fa-48fd-417f-8680-49b8033232b0",
   "metadata": {},
   "outputs": [
    {
     "name": "stdout",
     "output_type": "stream",
     "text": [
      "[[10 24 34 18]\n",
      " [16 42 28  6]\n",
      " [12 26 38 22]]\n"
     ]
    }
   ],
   "source": [
    "multiply_by_2 = matrix * 2\n",
    "print(multiply_by_2)"
   ]
  },
  {
   "cell_type": "code",
   "execution_count": 39,
   "id": "0bb34ed0-f1f5-402e-8350-3d6e1acbdc7f",
   "metadata": {},
   "outputs": [
    {
     "name": "stdout",
     "output_type": "stream",
     "text": [
      "[ 6.33333333 15.33333333 16.66666667  7.66666667]\n"
     ]
    }
   ],
   "source": [
    "column_mean = np.mean(matrix, axis = 0)\n",
    "print(column_mean)"
   ]
  },
  {
   "cell_type": "code",
   "execution_count": 41,
   "id": "fdb737fe-e9ed-4d2b-bb06-6e333deeac60",
   "metadata": {},
   "outputs": [
    {
     "name": "stdout",
     "output_type": "stream",
     "text": [
      "11.5\n"
     ]
    }
   ],
   "source": [
    "overall_mean = np.mean(matrix)\n",
    "print(overall_mean)"
   ]
  },
  {
   "cell_type": "code",
   "execution_count": 44,
   "id": "c6f824ba-0f32-4c45-a2bd-83406e50b934",
   "metadata": {},
   "outputs": [
    {
     "name": "stdout",
     "output_type": "stream",
     "text": [
      "[17 21 19]\n",
      "[ 5 12 14  3]\n"
     ]
    }
   ],
   "source": [
    "max_value_row = np.max(matrix, axis = 1)\n",
    "print(max_value_row)\n",
    "min_value_column = np.min(matrix, axis = 0)\n",
    "print(min_value_column)"
   ]
  },
  {
   "cell_type": "code",
   "execution_count": 13,
   "id": "63586a88-fad0-496e-b98e-0ffd0051911c",
   "metadata": {},
   "outputs": [
    {
     "name": "stdout",
     "output_type": "stream",
     "text": [
      "[ 5 12 17  9  8 21 14  3  6 13 19 11]\n"
     ]
    }
   ],
   "source": [
    "flattened_matrix = matrix.flatten() # the new shape is flat, .flatten turned the matrix into a 1d array movie the rows next to each other in one line\n",
    "print(flattened_matrix)"
   ]
  },
  {
   "cell_type": "code",
   "execution_count": 14,
   "id": "e88ab87e-e54c-4353-b904-84f256e6fb9b",
   "metadata": {},
   "outputs": [
    {
     "name": "stdout",
     "output_type": "stream",
     "text": [
      "7\n",
      "5\n"
     ]
    }
   ],
   "source": [
    "flattened_min = np.argmin(flattened_matrix)\n",
    "flattened_max = np.argmax(flattened_matrix)\n",
    "print(flattened_min)\n",
    "print(flattened_max)"
   ]
  },
  {
   "cell_type": "code",
   "execution_count": 100,
   "id": "9ab4176a-66b6-4bb1-8830-dfc9062b4743",
   "metadata": {},
   "outputs": [
    {
     "name": "stdout",
     "output_type": "stream",
     "text": [
      "(np.int64(1), np.int64(3))\n",
      "(np.int64(1), np.int64(1))\n"
     ]
    }
   ],
   "source": [
    "min_flattened_index = np.unravel_index(flattened_min, matrix.shape)\n",
    "max_flattened_index = np.unravel_index(flattened_max, matrix.shape)\n",
    "print(min_flattened_index)\n",
    "print(max_flattened_index)"
   ]
  },
  {
   "cell_type": "code",
   "execution_count": 86,
   "id": "696e6ae0-e990-4cd3-906e-171e9a9182ac",
   "metadata": {},
   "outputs": [
    {
     "name": "stdout",
     "output_type": "stream",
     "text": [
      "[17 21 19]\n"
     ]
    }
   ],
   "source": [
    "greater_than_15 = matrix > 15\n",
    "new_matrix = matrix[greater_than_15]\n",
    "print(new_matrix)"
   ]
  },
  {
   "cell_type": "code",
   "execution_count": 101,
   "id": "a61ae5e1-21d1-4878-8914-598309d44c72",
   "metadata": {},
   "outputs": [
    {
     "data": {
      "text/plain": [
       "array([[ 5,  9, 12, 17],\n",
       "       [ 3,  8, 14, 21],\n",
       "       [ 6, 11, 13, 19]])"
      ]
     },
     "execution_count": 101,
     "metadata": {},
     "output_type": "execute_result"
    }
   ],
   "source": [
    "np.sort(matrix, axis = 1)"
   ]
  },
  {
   "cell_type": "markdown",
   "id": "0eae3ab9-da45-416d-b6bd-81063255240f",
   "metadata": {},
   "source": [
    "Prime Star Systems"
   ]
  },
  {
   "cell_type": "code",
   "execution_count": 4,
   "id": "2344ac75-db79-44b2-bf99-0d2d33059c0c",
   "metadata": {},
   "outputs": [
    {
     "name": "stdout",
     "output_type": "stream",
     "text": [
      "[array([2, 3, 5]), array([11, 13, 17]), array([ 7, 10, 13])]\n"
     ]
    }
   ],
   "source": [
    "arr = np.array([\n",
    "[2 , 3, 5],\n",
    "[14, 6, 8],\n",
    "[11, 13, 17],\n",
    "[7, 10, 13]\n",
    "])\n",
    "\n",
    "def is_prime(n):\n",
    "    if n < 2:\n",
    "        return False\n",
    "    for i in range(2, int(n**0.5)+1):\n",
    "        if n % i ==0:\n",
    "            return False\n",
    "    return True\n",
    "\n",
    "def rows_with_prime(arr):\n",
    "    prime_row = []\n",
    "    for row in arr:\n",
    "        if any(is_prime(item) for item in row):\n",
    "            prime_row.append(row)\n",
    "    return prime_row\n",
    "print(rows_with_prime(arr))"
   ]
  },
  {
   "cell_type": "markdown",
   "id": "66d6854a-be1a-4237-abe4-bf11f518d1bb",
   "metadata": {},
   "source": [
    "Let's play checkers"
   ]
  },
  {
   "cell_type": "code",
   "execution_count": 61,
   "id": "e931ca8d-85e6-4a7f-b6de-de1137c87929",
   "metadata": {},
   "outputs": [
    {
     "name": "stdout",
     "output_type": "stream",
     "text": [
      "[[0. 0. 0. 0. 0. 0. 0. 0.]\n",
      " [0. 0. 0. 0. 0. 0. 0. 0.]\n",
      " [0. 0. 0. 0. 0. 0. 0. 0.]\n",
      " [0. 0. 0. 0. 0. 0. 0. 0.]\n",
      " [0. 0. 0. 0. 0. 0. 0. 0.]\n",
      " [0. 0. 0. 0. 0. 0. 0. 0.]\n",
      " [0. 0. 0. 0. 0. 0. 0. 0.]\n",
      " [0. 0. 0. 0. 0. 0. 0. 0.]]\n"
     ]
    }
   ],
   "source": [
    "def zero_array_8x8():\n",
    "    return np.zeros((8,8))\n",
    "print(zero_array_8x8())"
   ]
  },
  {
   "cell_type": "code",
   "execution_count": 135,
   "id": "36455214-c3ec-4137-8d6b-bb4f17221c4a",
   "metadata": {},
   "outputs": [
    {
     "name": "stdout",
     "output_type": "stream",
     "text": [
      "[[0. 0. 0. 0. 0. 0. 0. 0.]\n",
      " [0. 1. 0. 1. 0. 1. 0. 1.]\n",
      " [0. 0. 0. 0. 0. 0. 0. 0.]\n",
      " [0. 1. 0. 1. 0. 1. 0. 1.]\n",
      " [0. 0. 0. 0. 0. 0. 0. 0.]\n",
      " [0. 1. 0. 1. 0. 1. 0. 1.]\n",
      " [0. 0. 0. 0. 0. 0. 0. 0.]\n",
      " [0. 1. 0. 1. 0. 1. 0. 1.]]\n"
     ]
    }
   ],
   "source": [
    "def odd_number_row():\n",
    "    for i in range(8):\n",
    "        board = np.zeros((8,8))\n",
    "        board[1::2, 1::2] = 1\n",
    "        return board\n",
    "odd_number_rows = odd_number_row()\n",
    "print(odd_number_rows)"
   ]
  },
  {
   "cell_type": "code",
   "execution_count": 176,
   "id": "dba6e474-6b3c-4ef3-8a66-c2b8e02531c6",
   "metadata": {},
   "outputs": [
    {
     "name": "stdout",
     "output_type": "stream",
     "text": [
      "[[1. 0. 1. 0. 1. 0. 1. 0.]\n",
      " [0. 1. 0. 1. 0. 1. 0. 1.]\n",
      " [1. 0. 1. 0. 1. 0. 1. 0.]\n",
      " [0. 1. 0. 1. 0. 1. 0. 1.]\n",
      " [1. 0. 1. 0. 1. 0. 1. 0.]\n",
      " [0. 1. 0. 1. 0. 1. 0. 1.]\n",
      " [1. 0. 1. 0. 1. 0. 1. 0.]\n",
      " [0. 1. 0. 1. 0. 1. 0. 1.]]\n"
     ]
    }
   ],
   "source": [
    "def even_number_row():\n",
    "    for i in range(8):\n",
    "        board = np.zeros((8,8))\n",
    "        board[0::2, 0::2] = 1\n",
    "        return board\n",
    "even_number_rows = even_number_row()\n",
    "print(even_number_rows + odd_number_rows)"
   ]
  },
  {
   "cell_type": "code",
   "execution_count": 169,
   "id": "b7bd9d37-1a5d-45a9-b7be-578ac561d20e",
   "metadata": {},
   "outputs": [
    {
     "name": "stdout",
     "output_type": "stream",
     "text": [
      "[[0. 1. 0. 1. 0. 1. 0. 1.]\n",
      " [1. 0. 1. 0. 1. 0. 1. 0.]\n",
      " [0. 1. 0. 1. 0. 1. 0. 1.]\n",
      " [1. 0. 1. 0. 1. 0. 1. 0.]\n",
      " [0. 1. 0. 1. 0. 1. 0. 1.]\n",
      " [1. 0. 1. 0. 1. 0. 1. 0.]\n",
      " [0. 1. 0. 1. 0. 1. 0. 1.]\n",
      " [1. 0. 1. 0. 1. 0. 1. 0.]]\n"
     ]
    }
   ],
   "source": [
    "def reverse_odd_number_row():\n",
    "    for i in range(8):\n",
    "        board = np.zeros((8,8))\n",
    "        board[1::2, 0::2] = 1\n",
    "        return board\n",
    "reverse_odd_number_rows = reverse_odd_number_row()\n",
    "\n",
    "def reverse_even_number_row():\n",
    "    for i in range(8):\n",
    "        board = np.zeros((8,8))\n",
    "        board[0::2, 1::2] = 1\n",
    "        return board\n",
    "reverse_even_number_rows = reverse_even_number_row()\n",
    "print(reverse_even_number_rows + reverse_odd_number_rows)"
   ]
  },
  {
   "cell_type": "markdown",
   "id": "7b116876-1bf8-41fb-a108-2a293d217809",
   "metadata": {},
   "source": [
    "The Expanding Universe"
   ]
  },
  {
   "cell_type": "code",
   "execution_count": 23,
   "id": "349fd506-ae2c-4d27-84fb-a3dd680a08c2",
   "metadata": {},
   "outputs": [
    {
     "name": "stdout",
     "output_type": "stream",
     "text": [
      "['g  a  l  a  x  y  ', 'c  l  u  s  t  e  r  s  ']\n"
     ]
    }
   ],
   "source": [
    "def expansion(string, num):\n",
    "    new_string = []\n",
    "    spaces = \" \" * num\n",
    "    for i in string:\n",
    "        word = \"\"\n",
    "        for j in i:\n",
    "            word += j\n",
    "            word += spaces\n",
    "        new_string.append(word)\n",
    "    return new_string\n",
    "universe = np.array([\"galaxy\", \"clusters\"])\n",
    "print(expansion(universe, 2))"
   ]
  },
  {
   "cell_type": "markdown",
   "id": "d115e73a-0bcd-492a-962a-a92fdb2c5893",
   "metadata": {},
   "source": [
    "Second-Brightest Star"
   ]
  },
  {
   "cell_type": "code",
   "execution_count": 26,
   "id": "e4a36de5-48c7-4d78-9380-ee537c9c8b8e",
   "metadata": {},
   "outputs": [
    {
     "name": "stdout",
     "output_type": "stream",
     "text": [
      "[1789, 1678, 1654, 1784, 1756]\n"
     ]
    }
   ],
   "source": [
    "def secondDimmest(arr):\n",
    "    star_value = []\n",
    "    for row in arr:\n",
    "        sorted_row = np.sort(row)\n",
    "        star_value.append(int(sorted_row[-2]))\n",
    "    return star_value\n",
    "\n",
    "stars = [\n",
    "[1123, 1456, 1789, 1324, 1876],\n",
    "[1567, 1987, 1678, 1405, 1589],\n",
    "[1345, 1654, 1523, 1109, 1923],\n",
    "[1298, 1890, 1367, 1784, 1432],\n",
    "[1823, 1756, 1489, 1672, 1550]\n",
    "]\n",
    "\n",
    "print(secondDimmest(stars))"
   ]
  },
  {
   "cell_type": "code",
   "execution_count": null,
   "id": "3b727e2d-66d1-4e78-92c5-b92a263e4258",
   "metadata": {},
   "outputs": [],
   "source": []
  }
 ],
 "metadata": {
  "kernelspec": {
   "display_name": "Python [conda env:base] *",
   "language": "python",
   "name": "conda-base-py"
  },
  "language_info": {
   "codemirror_mode": {
    "name": "ipython",
    "version": 3
   },
   "file_extension": ".py",
   "mimetype": "text/x-python",
   "name": "python",
   "nbconvert_exporter": "python",
   "pygments_lexer": "ipython3",
   "version": "3.13.5"
  }
 },
 "nbformat": 4,
 "nbformat_minor": 5
}
